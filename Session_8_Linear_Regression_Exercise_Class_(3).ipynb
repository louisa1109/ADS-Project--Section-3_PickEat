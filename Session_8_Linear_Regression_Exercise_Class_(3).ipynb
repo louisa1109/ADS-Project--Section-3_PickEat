{
  "cells": [
    {
      "cell_type": "markdown",
      "metadata": {
        "id": "view-in-github",
        "colab_type": "text"
      },
      "source": [
        "<a href=\"https://colab.research.google.com/github/louisa1109/ADS-Project--Section-3_PickEat/blob/main/Session_8_Linear_Regression_Exercise_Class_(3).ipynb\" target=\"_parent\"><img src=\"https://colab.research.google.com/assets/colab-badge.svg\" alt=\"Open In Colab\"/></a>"
      ]
    },
    {
      "cell_type": "markdown",
      "metadata": {
        "id": "JqC9zGoGAm3B"
      },
      "source": [
        "# Linear Regression"
      ]
    },
    {
      "cell_type": "code",
      "execution_count": null,
      "metadata": {
        "id": "Pdpw3aM4Am3D"
      },
      "outputs": [],
      "source": [
        "import pandas as pd\n",
        "import os\n",
        "cwd=os.getcwd()\n",
        "data_folder=cwd+'/data'\n",
        "data=data_folder+'/Housing.csv'\n",
        "\n",
        "df_housing= pd.read_csv(data,  sep=',',engine='python')\n",
        "df_housing=df_housing.drop(['PID','Order'],axis=1)\n"
      ]
    },
    {
      "cell_type": "markdown",
      "metadata": {
        "id": "ObBtlCwlAm3F"
      },
      "source": [
        "The fields mean the following:\n",
        "\n",
        "- MSSubClass: The building class\n",
        "- MSZoning: The general zoning classification\n",
        "- LotFrontage: Linear feet of street connected to property\n",
        "- LotArea: Lot size in square feet\n",
        "- Street: Type of road access\n",
        "- Alley: Type of alley access\n",
        "- LotShape: General shape of property\n",
        "- LandContour: Flatness of the property\n",
        "- Utilities: Type of utilities available\n",
        "- LotConfig: Lot configuration\n",
        "- LandSlope: Slope of property\n",
        "- Neighborhood: Physical locations within Ames city limits\n",
        "- Condition1: Proximity to main road or railroad\n",
        "- Condition2: Proximity to main road or railroad (if a second is present)\n",
        "- BldgType: Type of dwelling\n",
        "- HouseStyle: Style of dwelling\n",
        "- OverallQual: Overall material and finish quality\n",
        "- OverallCond: Overall condition rating\n",
        "- YearBuilt: Original construction date\n",
        "- YearRemodAdd: Remodel date\n",
        "- RoofStyle: Type of roof\n",
        "- RoofMatl: Roof material\n",
        "- Exterior1st: Exterior covering on house\n",
        "- Exterior2nd: Exterior covering on house (if more than one material)\n",
        "- MasVnrType: Masonry veneer type\n",
        "- MasVnrArea: Masonry veneer area in square feet\n",
        "- ExterQual: Exterior material quality\n",
        "- ExterCond: Present condition of the material on the exterior\n",
        "- Foundation: Type of foundation\n",
        "- BsmtQual: Height of the basement\n",
        "- BsmtCond: General condition of the basement\n",
        "- BsmtExposure: Walkout or garden level basement walls\n",
        "- BsmtFinType1: Quality of basement finished area\n",
        "- BsmtFinSF1: Type 1 finished square feet\n",
        "- BsmtFinType2: Quality of second finished area (if present)\n",
        "- BsmtFinSF2: Type 2 finished square feet\n",
        "- BsmtUnfSF: Unfinished square feet of basement area\n",
        "- TotalBsmtSF: Total square feet of basement area\n",
        "- Heating: Type of heating\n",
        "- HeatingQC: Heating quality and condition\n",
        "- CentralAir: Central air conditioning\n",
        "- Electrical: Electrical system\n",
        "- 1stFlrSF: First Floor square feet\n",
        "- 2ndFlrSF: Second floor square feet\n",
        "- LowQualFinSF: Low quality finished square feet (all floors)\n",
        "- GrLivArea: Above grade (ground) living area square feet\n",
        "- BsmtFullBath: Basement full bathrooms\n",
        "- BsmtHalfBath: Basement half bathrooms\n",
        "- FullBath: Full bathrooms above grade\n",
        "- HalfBath: Half baths above grade\n",
        "- Bedroom: Number of bedrooms above basement level\n",
        "- Kitchen: Number of kitchens\n",
        "- KitchenQual: Kitchen quality\n",
        "- TotRmsAbvGrd: Total rooms above grade (does not include bathrooms)\n",
        "- Functional: Home functionality rating\n",
        "- Fireplaces: Number of fireplaces\n",
        "- FireplaceQu: Fireplace quality\n",
        "- GarageType: Garage location\n",
        "- GarageYrBlt: Year garage was built\n",
        "- GarageFinish: Interior finish of the garage\n",
        "- GarageCars: Size of garage in car capacity\n",
        "- GarageArea: Size of garage in square feet\n",
        "- GarageQual: Garage quality\n",
        "- GarageCond: Garage condition\n",
        "- PavedDrive: Paved driveway\n",
        "- WoodDeckSF: Wood deck area in square feet\n",
        "- OpenPorchSF: Open porch area in square feet\n",
        "- EnclosedPorch: Enclosed porch area in square feet\n",
        "- 3SsnPorch: Three season porch area in square feet\n",
        "- ScreenPorch: Screen porch area in square feet\n",
        "- PoolArea: Pool area in square feet\n",
        "- PoolQC: Pool quality\n",
        "- Fence: Fence quality\n",
        "- MiscFeature: Miscellaneous feature not covered in other categories\n",
        "- MiscVal: Value of miscellaneous feature\n",
        "- MoSold: Month Sold\n",
        "- YrSold: Year Sold\n",
        "- SaleType: Type of sale\n",
        "- SaleCondition: Condition of sale\n",
        "\n",
        "Target variable:\n",
        "- SalePrice - the property's sale price in dollars. This is the target variable that you're trying to predict.\n",
        "\n"
      ]
    },
    {
      "cell_type": "markdown",
      "metadata": {
        "id": "dMk-4cFpAm3F"
      },
      "source": [
        "## Data analysis\n",
        "### Check the different fields\n",
        "#### Do we have missing values?"
      ]
    },
    {
      "cell_type": "markdown",
      "metadata": {
        "id": "PLiZAkmDAm3G"
      },
      "source": [
        "In this case we are going to work with some of the columns. Check the columns with more missing values"
      ]
    },
    {
      "cell_type": "code",
      "execution_count": null,
      "metadata": {
        "id": "6Dzb3kpuAm3G"
      },
      "outputs": [],
      "source": []
    },
    {
      "cell_type": "markdown",
      "metadata": {
        "id": "JFlOgiwJAm3G"
      },
      "source": [
        "And evaluate the main statistics of the overall dataframe"
      ]
    },
    {
      "cell_type": "code",
      "execution_count": null,
      "metadata": {
        "id": "9v7H9t7-Am3G"
      },
      "outputs": [],
      "source": []
    },
    {
      "cell_type": "markdown",
      "metadata": {
        "id": "8zUt3cb6Am3G"
      },
      "source": [
        "Create a new dataframe by selecting the following columns:\n",
        "'MS SubClass','MS Zoning','Lot Frontage', 'Lot Area','Street','Utilities','Neighborhood','Year Built',\n",
        "'BsmtFin Type 1','BsmtFin SF 1','Year Remod/Add','Heating','Heating QC','Bedroom AbvGr','Kitchen AbvGr','Garage Cars','3Ssn Porch','Pool Area','Gr Liv Area','Total Bsmt SF','Mo Sold','Yr Sold','Sale Type','Sale Condition','SalePrice'"
      ]
    },
    {
      "cell_type": "code",
      "execution_count": null,
      "metadata": {
        "id": "GmQVmdYUAm3H"
      },
      "outputs": [],
      "source": [
        "cols=... #Complete the code\n",
        "df_housing_2=... #Complete the code"
      ]
    },
    {
      "cell_type": "markdown",
      "metadata": {
        "id": "jRolRqzrAm3H"
      },
      "source": [
        "##### Check if we have missing values in the new dataframe"
      ]
    },
    {
      "cell_type": "code",
      "execution_count": null,
      "metadata": {
        "id": "14M5G-TlAm3H"
      },
      "outputs": [],
      "source": []
    },
    {
      "cell_type": "code",
      "execution_count": null,
      "metadata": {
        "id": "zN4X6vgKAm3H"
      },
      "outputs": [],
      "source": []
    },
    {
      "cell_type": "markdown",
      "metadata": {
        "id": "WqvqxrgxAm3H"
      },
      "source": [
        "If it is the case, fill them using a more frequent approach"
      ]
    },
    {
      "cell_type": "code",
      "execution_count": null,
      "metadata": {
        "id": "YY6CBg_SAm3H"
      },
      "outputs": [],
      "source": [
        "from sklearn.impute import SimpleImputer\n",
        "import numpy as np\n",
        "imr=  ... # Complete the code\n",
        "imr=... #Complete the\n",
        "df_housing_2.iloc[:]=...#Complete the code"
      ]
    },
    {
      "cell_type": "markdown",
      "metadata": {
        "id": "yIYk0H5yAm3I"
      },
      "source": [
        "#### Analyze what kind of data are we working with"
      ]
    },
    {
      "cell_type": "code",
      "execution_count": null,
      "metadata": {
        "id": "1rAQGjeIAm3I"
      },
      "outputs": [],
      "source": [
        "...#Complete the code"
      ]
    },
    {
      "cell_type": "markdown",
      "metadata": {
        "id": "MqlkLpoYAm3I"
      },
      "source": [
        "#### Basic statistics of the different columns"
      ]
    },
    {
      "cell_type": "code",
      "execution_count": null,
      "metadata": {
        "id": "C_RkwCtIAm3I"
      },
      "outputs": [],
      "source": [
        "...#Complete the code"
      ]
    },
    {
      "cell_type": "markdown",
      "metadata": {
        "id": "CrUsuC7oAm3I"
      },
      "source": [
        "#### Relationship between independent variables and the target variable"
      ]
    },
    {
      "cell_type": "code",
      "execution_count": null,
      "metadata": {
        "id": "pxixbJ34Am3I"
      },
      "outputs": [],
      "source": []
    },
    {
      "cell_type": "code",
      "execution_count": null,
      "metadata": {
        "id": "KlYVk6-iAm3I"
      },
      "outputs": [],
      "source": [
        "numerics = ['int16', 'int32', 'int64', 'float16', 'float32', 'float64']\n",
        "numeric_columns= df_housing_2.iloc[:,:24].select_dtypes(include=numerics).columns.tolist()\n",
        "non_numerics = ['object']\n",
        "non_numeric_columns= df_housing_2.iloc[:,:24].select_dtypes(include=non_numerics).columns.tolist()"
      ]
    },
    {
      "cell_type": "markdown",
      "metadata": {
        "id": "jIaleF6nAm3J"
      },
      "source": [
        "Our target variable is the housing price (SalePrice). Let's analyze the relationship among the rest of the variables and the target variable"
      ]
    },
    {
      "cell_type": "code",
      "execution_count": null,
      "metadata": {
        "id": "DGSOpaI5Am3J"
      },
      "outputs": [],
      "source": [
        "import seaborn as sns\n",
        "import matplotlib.pyplot as plt\n",
        "for col in df_housing_2.iloc[:,:24].columns:\n",
        "    if col in numeric_columns:\n",
        "        plt.figure()\n",
        "        plt.hist(df_housing_2[col],bins=20)\n",
        "        plt.title('Histogram of variable '+col)\n",
        "        plt.xlabel(col)\n",
        "        plt.ylabel('frequencies')\n",
        "        #scatter-plot\n",
        "        plt.figure()\n",
        "        plt.scatter(df_housing_2[col], df_housing_2['SalePrice'],  alpha=0.5)\n",
        "        plt.title('Scaterplot')\n",
        "        plt.xlabel(col)\n",
        "        plt.ylabel('average price')\n",
        "    else:\n",
        "        plt.figure()\n",
        "        #We will get those that have a value higher than the limit threshold\n",
        "        limit=20\n",
        "        if df_housing_2[col].nunique()<=limit:\n",
        "            ax = sns.boxplot(x=col, y=df_housing_2['SalePrice'],  data=df_housing_2)\n",
        "            ax.set_xticklabels(ax.get_xticklabels(),rotation=90)\n",
        "            plt.title('Box-plot of the price depending on '+col)\n",
        "        else:\n",
        "            df_aux=df_housing_2[col].value_counts().reset_index(name='occ')\n",
        "            df_aux=df_aux.rename(columns={'index':col})\n",
        "            df_aux_2=pd.merge(df_housing_2[col],df_aux.sort_values(by='occ',ascending=False).head(limit),on=col,how='inner')\n",
        "            ax = sns.boxplot(x=col, y=df_housing_2['SalePrice'],  data=df_aux_2)\n",
        "            ax.set_xticklabels(ax.get_xticklabels(),rotation=90)\n",
        "            plt.title('Box-plot of the salary depending on '+col)"
      ]
    },
    {
      "cell_type": "markdown",
      "metadata": {
        "id": "cPwUV4AOAm3J"
      },
      "source": [
        "We can do it in a single figure using seaborn"
      ]
    },
    {
      "cell_type": "code",
      "execution_count": null,
      "metadata": {
        "id": "tL26nMuIAm3J"
      },
      "outputs": [],
      "source": [
        "sns.pairplot(df_housing_2)\n",
        "plt.show()"
      ]
    },
    {
      "cell_type": "markdown",
      "metadata": {
        "id": "eovC-1iFAm3J"
      },
      "source": [
        "As we have a relatively high number of columns, we are going to divide the number of columns to show\n"
      ]
    },
    {
      "cell_type": "code",
      "execution_count": null,
      "metadata": {
        "id": "aYFC2fFrAm3J"
      },
      "outputs": [],
      "source": [
        "cols=numeric_columns[0:round(len(numeric_columns)/2)]\n",
        "cols.append('SalePrice')\n",
        "df_eval=df_housing_2[cols]\n",
        "sns.pairplot(df_eval)\n",
        "plt.show()"
      ]
    },
    {
      "cell_type": "code",
      "execution_count": null,
      "metadata": {
        "id": "GaSTrO-IAm3J"
      },
      "outputs": [],
      "source": [
        "cols=numeric_columns[round(len(numeric_columns)/2):]\n",
        "cols.append('SalePrice')\n",
        "df_eval=df_housing_2[cols]\n",
        "sns.pairplot(df_eval)\n",
        "plt.show()"
      ]
    },
    {
      "cell_type": "markdown",
      "metadata": {
        "id": "ixOQGCVaAm3J"
      },
      "source": [
        "Analyze the relationships"
      ]
    },
    {
      "cell_type": "markdown",
      "metadata": {
        "id": "IZMu3GYXAm3K"
      },
      "source": []
    },
    {
      "cell_type": "markdown",
      "metadata": {
        "id": "CSZfB3zBAm3K"
      },
      "source": [
        "### Let's deal with the categorical variables\n",
        "\n",
        "Let's do one hot encoding with the X dataframe"
      ]
    },
    {
      "cell_type": "code",
      "execution_count": null,
      "metadata": {
        "id": "EVIQEXRwAm3K"
      },
      "outputs": [],
      "source": [
        "X=df_housing_2.iloc[:,:24]\n",
        "y=df_housing_2.iloc[:,24]\n",
        "df_ohe=...#Complete the code"
      ]
    },
    {
      "cell_type": "code",
      "execution_count": null,
      "metadata": {
        "id": "GBOzTzEWAm3K",
        "outputId": "a5a5db28-8fe9-4ffa-b875-9ead719c5617"
      },
      "outputs": [
        {
          "data": {
            "text/plain": [
              "Index(['MS SubClass', 'Lot Frontage', 'Lot Area', 'Year Built', 'BsmtFin SF 1',\n",
              "       'Year Remod/Add', 'Bedroom AbvGr', 'Kitchen AbvGr', 'Garage Cars',\n",
              "       '3Ssn Porch', 'Pool Area', 'Gr Liv Area', 'Total Bsmt SF', 'Mo Sold',\n",
              "       'Yr Sold', 'MS Zoning_C (all)', 'MS Zoning_FV', 'MS Zoning_I (all)',\n",
              "       'MS Zoning_RH', 'MS Zoning_RL', 'MS Zoning_RM', 'Street_Pave',\n",
              "       'Utilities_NoSeWa', 'Utilities_NoSewr', 'Neighborhood_Blueste',\n",
              "       'Neighborhood_BrDale', 'Neighborhood_BrkSide', 'Neighborhood_ClearCr',\n",
              "       'Neighborhood_CollgCr', 'Neighborhood_Crawfor', 'Neighborhood_Edwards',\n",
              "       'Neighborhood_Gilbert', 'Neighborhood_Greens', 'Neighborhood_GrnHill',\n",
              "       'Neighborhood_IDOTRR', 'Neighborhood_Landmrk', 'Neighborhood_MeadowV',\n",
              "       'Neighborhood_Mitchel', 'Neighborhood_NAmes', 'Neighborhood_NPkVill',\n",
              "       'Neighborhood_NWAmes', 'Neighborhood_NoRidge', 'Neighborhood_NridgHt',\n",
              "       'Neighborhood_OldTown', 'Neighborhood_SWISU', 'Neighborhood_Sawyer',\n",
              "       'Neighborhood_SawyerW', 'Neighborhood_Somerst', 'Neighborhood_StoneBr',\n",
              "       'Neighborhood_Timber', 'Neighborhood_Veenker', 'BsmtFin Type 1_BLQ',\n",
              "       'BsmtFin Type 1_GLQ', 'BsmtFin Type 1_LwQ', 'BsmtFin Type 1_Rec',\n",
              "       'BsmtFin Type 1_Unf', 'Heating_GasA', 'Heating_GasW', 'Heating_Grav',\n",
              "       'Heating_OthW', 'Heating_Wall', 'Heating QC_Fa', 'Heating QC_Gd',\n",
              "       'Heating QC_Po', 'Heating QC_TA', 'Sale Type_CWD', 'Sale Type_Con',\n",
              "       'Sale Type_ConLD', 'Sale Type_ConLI', 'Sale Type_ConLw',\n",
              "       'Sale Type_New', 'Sale Type_Oth', 'Sale Type_VWD', 'Sale Type_WD ',\n",
              "       'Sale Condition_AdjLand', 'Sale Condition_Alloca',\n",
              "       'Sale Condition_Family', 'Sale Condition_Normal',\n",
              "       'Sale Condition_Partial'],\n",
              "      dtype='object')"
            ]
          },
          "execution_count": 135,
          "metadata": {},
          "output_type": "execute_result"
        }
      ],
      "source": [
        "#You should get something like this\n",
        "df_ohe.columns"
      ]
    },
    {
      "cell_type": "markdown",
      "metadata": {
        "id": "lCPGBwTWAm3L"
      },
      "source": [
        "Remove the categorical variables if necessary.\n",
        "\n",
        "Now, as we are going to develop a linear model, a heatmap of the variables could be a good way of analyzing the relationship between variables. Create as many heatmaps as needed to help you to analize (it is recommended ~20 variables against the target in order to been able to extract conclussions)"
      ]
    },
    {
      "cell_type": "code",
      "execution_count": null,
      "metadata": {
        "id": "_d2a6pIKAm3L"
      },
      "outputs": [],
      "source": [
        "plt.figure(figsize=(16,6))\n",
        "sns.heatmap(pd.concat([df_ohe.iloc[:,0:20],y],axis=1).corr().abs().round(3),annot=True)"
      ]
    },
    {
      "cell_type": "code",
      "execution_count": null,
      "metadata": {
        "id": "LjiOPhAfAm3L"
      },
      "outputs": [],
      "source": [
        "plt.figure(figsize=(16,6))\n",
        "sns.heatmap(pd.concat([df_ohe.iloc[:,20:40],y],axis=1).corr().abs(),annot=True)"
      ]
    },
    {
      "cell_type": "code",
      "execution_count": null,
      "metadata": {
        "id": "-e-pYCJqAm3L"
      },
      "outputs": [],
      "source": [
        "plt.figure(figsize=(16,6))\n",
        "sns.heatmap(pd.concat([df_ohe.iloc[:,40:60],y],axis=1).corr().abs(),annot=True)"
      ]
    },
    {
      "cell_type": "code",
      "execution_count": null,
      "metadata": {
        "id": "0hVsER5RAm3L"
      },
      "outputs": [],
      "source": [
        "plt.figure(figsize=(16,6))\n",
        "sns.heatmap(pd.concat([df_ohe.iloc[:,60:],y],axis=1).corr().abs(),annot=True)"
      ]
    },
    {
      "cell_type": "markdown",
      "metadata": {
        "id": "CTgJwTGrAm3X"
      },
      "source": [
        "Let's develop our first linear model.\n",
        "\n",
        "Select those that could be good candidates.\n",
        "\n",
        "Focus on the most relevant variables and check if they could make sense\n",
        "\n"
      ]
    },
    {
      "cell_type": "markdown",
      "metadata": {
        "id": "O06kLCkQAm3X"
      },
      "source": [
        "#### Our first model\n",
        "Let's develop our first linear regressor. In order to do it, we are going to use the LinearRegression model from sklearn.linear_model. Select the variable that presents the highest correlation with the target variable"
      ]
    },
    {
      "cell_type": "code",
      "execution_count": null,
      "metadata": {
        "id": "-AcVhqtWAm3X"
      },
      "outputs": [],
      "source": [
        "cols=...#Select the col that will be the explanatory variable (or several cols)\n",
        "from sklearn.model_selection import train_test_split\n",
        "X, y = ...#Include your code\n",
        "X_train, X_test, y_train, y_test =  train_test_split(X, y, test_size=0.3,random_state=0)\n",
        "from sklearn.linear_model import LinearRegression\n",
        "lin_regr=... #Include your code\n"
      ]
    },
    {
      "cell_type": "markdown",
      "metadata": {
        "id": "GBwnr2rHAm3X"
      },
      "source": [
        "Print the coeficients and the independent term. Get the $R^{2}$ of your model"
      ]
    },
    {
      "cell_type": "code",
      "execution_count": null,
      "metadata": {
        "id": "SiQNs6dTAm3X"
      },
      "outputs": [],
      "source": [
        "print('The intercept is: %.3f'%lin_regr.intercept_)\n",
        "print('The coefficients are : '+str(lin_regr.coef_))\n",
        "print('The R_score is '+str(lin_regr.score(X_train[cols].values, y_train.values)))"
      ]
    },
    {
      "cell_type": "code",
      "execution_count": null,
      "metadata": {
        "id": "esuzvGzRAm3X"
      },
      "outputs": [],
      "source": []
    },
    {
      "cell_type": "code",
      "execution_count": null,
      "metadata": {
        "id": "9YIpiLcIAm3Y"
      },
      "outputs": [],
      "source": []
    },
    {
      "cell_type": "markdown",
      "metadata": {
        "id": "SVv2yP0HAm3Y"
      },
      "source": [
        "Add the second power of 'Lot Area' variable as a new explanatory one."
      ]
    },
    {
      "cell_type": "code",
      "execution_count": null,
      "metadata": {
        "id": "Kr73_ouCAm3Y"
      },
      "outputs": [],
      "source": [
        "X_train_2=X_train.copy()\n",
        "X_train_2['Lot Area Sq']=...#Include your code here\n",
        "X_test_2=X_test.copy()\n",
        "X_test_2['Lot Area Sq']=...#Include your code here\n",
        "\n"
      ]
    },
    {
      "cell_type": "markdown",
      "metadata": {
        "id": "aKtPPjvDAm3Y"
      },
      "source": [
        "Define a linear regression model using 'Lot Area' and 'Lot Area Sq' as explanatory variables and predict within the testing dataset"
      ]
    },
    {
      "cell_type": "code",
      "execution_count": null,
      "metadata": {
        "id": "rK4cprM2Am3Y"
      },
      "outputs": [],
      "source": [
        "lin_regr_2=... #Include your code"
      ]
    },
    {
      "cell_type": "markdown",
      "metadata": {
        "id": "PORIUmF8Am3Y"
      },
      "source": [
        "##### Performance Functions\n",
        "Here we have defined a function that plots the regression line against the dataset (for univariate cases)"
      ]
    },
    {
      "cell_type": "code",
      "execution_count": null,
      "metadata": {
        "id": "zuOKNUa-Am3Y"
      },
      "outputs": [],
      "source": [
        "def lin_regression_plot(X, y, model):\n",
        "    plt.scatter(X, y, c='blue')\n",
        "    plt.plot(X, model.predict(X), color='red')\n",
        "    return"
      ]
    },
    {
      "cell_type": "markdown",
      "metadata": {
        "id": "Zz_y783qAm3Z"
      },
      "source": [
        "In this cell we have defined a new function that prints the MAE, MSE and RMSE"
      ]
    },
    {
      "cell_type": "code",
      "execution_count": null,
      "metadata": {
        "id": "LjU5ByFwAm3Z"
      },
      "outputs": [],
      "source": [
        "from sklearn.metrics import mean_squared_error\n",
        "from sklearn.metrics import mean_absolute_error\n",
        "\n",
        "def define_performance_regression(y,predict,model,train):\n",
        "    print('------'+model+' in '+train+' dataset------')\n",
        "    print('The MAE in the dataset is %.3f '%mean_absolute_error(y,predict))\n",
        "    print('The MSE in the training dataset is %.3f '%mean_squared_error(y,predict))\n",
        "    print('The RMSE in the training dataset is %.3f '%mean_squared_error(y,predict,squared=False))"
      ]
    },
    {
      "cell_type": "code",
      "execution_count": null,
      "metadata": {
        "id": "-qG-4zH1Am3Z"
      },
      "outputs": [],
      "source": [
        "model_name='First Linear Regressor'\n",
        "define_performance_regression(y_test,lin_regr.predict(X_test[cols].values),model=model_name,train='test')"
      ]
    },
    {
      "cell_type": "markdown",
      "metadata": {
        "id": "CovoLQmhAm3Z"
      },
      "source": [
        "Let's plot now the performence in the testing dataset for your first model (only if a single variable was selected)"
      ]
    },
    {
      "cell_type": "code",
      "execution_count": null,
      "metadata": {
        "id": "KROCv0QOAm3Z"
      },
      "outputs": [],
      "source": []
    },
    {
      "cell_type": "markdown",
      "metadata": {
        "id": "SHYDPb78Am3Z"
      },
      "source": [
        "#### Second model. Robust Linear regressor\n",
        "\n",
        "We are goiing to check if with a robust linear regressor we obtain a better performance. In order to develop the model, we are going to use the RANSACRegressor from sklearn.linear_model"
      ]
    },
    {
      "cell_type": "code",
      "execution_count": null,
      "metadata": {
        "id": "2L_S83K7Am3a"
      },
      "outputs": [],
      "source": [
        "from sklearn.linear_model import RANSACRegressor\n",
        "import numpy as np\n",
        "ransac_lr=RANSACRegressor(min_samples=100,residual_threshold=50000,random_state=1234)\n",
        "ransac_lr.fit(...)#Fill the voids with your code\n",
        "inliers = ransac_lr.inlier_mask_\n",
        "outliers = np.logical_not(inliers)\n"
      ]
    },
    {
      "cell_type": "code",
      "execution_count": null,
      "metadata": {
        "id": "cTw-nbRCAm3a"
      },
      "outputs": [],
      "source": [
        "line_X = np.arange(0, 6000, 1)\n",
        "line_y_ransac = ransac_lr.predict(line_X[:, np.newaxis])\n",
        "plt.scatter(X_train[cols[0]].values[outliers], y_train[outliers], c='red', edgecolor='red', marker='s', label='Outliers')\n",
        "plt.scatter(X_train[cols[0]].values[inliers], y_train[inliers],c='blue', edgecolor='blue', marker='o', label='Inliers')\n",
        "\n",
        "plt.plot(line_X, line_y_ransac, color='green', lw=2)\n",
        "plt.xlabel(cols[0])\n",
        "plt.ylabel('Price')\n",
        "plt.legend(loc='upper left')\n",
        "plt.title\n",
        "plt.show()"
      ]
    },
    {
      "cell_type": "markdown",
      "metadata": {
        "id": "eDMspZqJAm3a"
      },
      "source": [
        "Test with different values of the residual_threshold"
      ]
    },
    {
      "cell_type": "markdown",
      "metadata": {
        "id": "mZQuswsDAm3a"
      },
      "source": [
        "Print the coefficients and the $R^{2}$ of your model. Analyze it."
      ]
    },
    {
      "cell_type": "code",
      "execution_count": null,
      "metadata": {
        "id": "hr4sAMAKAm3a"
      },
      "outputs": [],
      "source": [
        "print('The intercept is: %.3f'%ransac_lr.estimator_.intercept_)\n",
        "print('The coefficients are : '+str(ransac_lr.estimator_.coef_))\n",
        "print('The R_score is '+str(ransac_lr.score(X_train[[cols[0]]].values, y_train.values)))"
      ]
    },
    {
      "cell_type": "markdown",
      "metadata": {
        "id": "phfZ_IGAAm3a"
      },
      "source": [
        "##### Performance\n",
        "Let's check the performance of the model"
      ]
    },
    {
      "cell_type": "code",
      "execution_count": null,
      "metadata": {
        "id": "mpPwHSbHAm3a"
      },
      "outputs": [],
      "source": [
        "model_name='Ransac Model'\n",
        "define_performance_regression(y_test,ransac_lr.predict(X_test[[cols[0]]].values),model=model_name,train='test')"
      ]
    },
    {
      "cell_type": "markdown",
      "metadata": {
        "id": "dVT1s-HGAm3a"
      },
      "source": [
        "Compare ir against the training dataset. Do you consider it may have overfitted your case?"
      ]
    },
    {
      "cell_type": "markdown",
      "metadata": {
        "id": "Juz80TWvAm3b"
      },
      "source": [
        "#### Third model. Let's include more variables\n",
        "\n",
        "Check including the three variables that present the highest correlation with the target."
      ]
    },
    {
      "cell_type": "code",
      "execution_count": null,
      "metadata": {
        "id": "4ddQfmRNAm3b"
      },
      "outputs": [],
      "source": [
        "selected=... #Include your code here\n",
        "lin_regr_v2=... #Include your code here\n",
        "lin_regr_v2.fit(...) #Fill the voids"
      ]
    },
    {
      "cell_type": "code",
      "execution_count": null,
      "metadata": {
        "id": "85YsgHSoAm3b"
      },
      "outputs": [],
      "source": [
        "print('The intercept is: %.3f'%lin_regr_v2.intercept_)\n",
        "print('The coefficients are : '+str(lin_regr_v2.coef_))\n",
        "print('The R_score is '+str(lin_regr_v2.score(X_train[selected].values, y_train.values)))"
      ]
    },
    {
      "cell_type": "code",
      "execution_count": null,
      "metadata": {
        "id": "U6BgaUSuAm3b"
      },
      "outputs": [],
      "source": [
        "define_performance_regression(y_test,lin_regr_v2.predict(X_test[selected].values),model=model_name,train='test')"
      ]
    },
    {
      "cell_type": "markdown",
      "metadata": {
        "id": "nYgXZ7vUAm3b"
      },
      "source": [
        "##### Check the performance and analyze it"
      ]
    },
    {
      "cell_type": "code",
      "execution_count": null,
      "metadata": {
        "id": "Io6-AYBMAm3b"
      },
      "outputs": [],
      "source": []
    },
    {
      "cell_type": "code",
      "execution_count": null,
      "metadata": {
        "id": "v9ejblFOAm3c"
      },
      "outputs": [],
      "source": []
    },
    {
      "cell_type": "markdown",
      "metadata": {
        "id": "85Gz5YqpAm3c"
      },
      "source": [
        "#### Fourth Model. RANSAC with the new variable selection (the 3 with the highest correlation against the target)"
      ]
    },
    {
      "cell_type": "code",
      "execution_count": null,
      "metadata": {
        "id": "yUVfrdWjAm3c"
      },
      "outputs": [],
      "source": [
        "ransac_v2 = RANSACRegressor(LinearRegression(), max_trials=100, min_samples=100,\n",
        "                             residual_threshold=50000,random_state=0)\n",
        "ransac_v2.fit(...) #Include your code"
      ]
    },
    {
      "cell_type": "markdown",
      "metadata": {
        "id": "OOPRwKeFAm3c"
      },
      "source": [
        "Check the performance and analyze it"
      ]
    },
    {
      "cell_type": "markdown",
      "metadata": {
        "id": "9eZYRijAAm3c"
      },
      "source": [
        "#### All the variables\n",
        "Let's check how the model will perform if we include all the variables"
      ]
    },
    {
      "cell_type": "code",
      "execution_count": null,
      "metadata": {
        "id": "BZjuvintAm3c"
      },
      "outputs": [],
      "source": [
        "final_lr=... #Include your code here\n",
        "final_lr.fit(...) #Include your code here"
      ]
    },
    {
      "cell_type": "markdown",
      "metadata": {
        "id": "tq2qkBhjAm3c"
      },
      "source": [
        "Check the performance and analyze it. Compare against the obtained metrics in the training phase. Do you believe we may have any kind of overfitting?"
      ]
    },
    {
      "cell_type": "code",
      "execution_count": null,
      "metadata": {
        "id": "qpgghKP3Am3c"
      },
      "outputs": [],
      "source": [
        "define_performance_regression(...,train='train')"
      ]
    },
    {
      "cell_type": "code",
      "execution_count": null,
      "metadata": {
        "id": "RDMQxUAqAm3d"
      },
      "outputs": [],
      "source": [
        "define_performance_regression(...,train='test')"
      ]
    },
    {
      "cell_type": "markdown",
      "metadata": {
        "id": "VVa57yvtAm3d"
      },
      "source": [
        "##### Let's develop a model with regularization\n",
        "\n",
        "In this case we are going to develop a Ridge, a Lasso and a Elastic Net models with all the variables"
      ]
    },
    {
      "cell_type": "code",
      "execution_count": null,
      "metadata": {
        "id": "nTavfMlSAm3d"
      },
      "outputs": [],
      "source": [
        "from sklearn.linear_model import Ridge\n",
        "ridge_lr=Ridge(alpha=1.0)\n",
        "ridge_lr.fit(...) #Complete the code"
      ]
    },
    {
      "cell_type": "markdown",
      "metadata": {
        "id": "aupd2R_XAm3d"
      },
      "source": [
        "Analize the parameters and the performance"
      ]
    },
    {
      "cell_type": "code",
      "execution_count": null,
      "metadata": {
        "id": "eXRhj5xLAm3d"
      },
      "outputs": [],
      "source": [
        "print('The intercept is: %.3f'%ridge_lr.intercept_)\n",
        "print('The coefficients are : '+str(ridge_lr.coef_))\n",
        "MAE=mean_absolute_error(ridge_lr.predict(X_test.values),y_test)\n",
        "MSE=mean_squared_error(ridge_lr.predict(X_test.values),y_test)\n",
        "print('The MAE in the dataset is {MAE} while the MSE is {MSE}'.format(MAE=MAE,MSE=MSE))"
      ]
    },
    {
      "cell_type": "code",
      "execution_count": null,
      "metadata": {
        "id": "VynKe1OeAm3d"
      },
      "outputs": [],
      "source": [
        "model='Ridge with all variables'\n",
        "define_performance_regression(...)"
      ]
    },
    {
      "cell_type": "markdown",
      "metadata": {
        "id": "YCNmdS7mAm3d"
      },
      "source": [
        "Let's check now with a Lasso approach"
      ]
    },
    {
      "cell_type": "code",
      "execution_count": null,
      "metadata": {
        "id": "K9HTcbSKAm3e"
      },
      "outputs": [],
      "source": [
        "from sklearn.linear_model import Lasso\n",
        "Lasso_lr=Lasso(alpha=5.0)\n",
        "Lasso_lr.fit(...) #Complete the code"
      ]
    },
    {
      "cell_type": "code",
      "execution_count": null,
      "metadata": {
        "id": "bYA7XjdLAm3e"
      },
      "outputs": [],
      "source": []
    },
    {
      "cell_type": "markdown",
      "metadata": {
        "id": "zlR8SEHFAm3e"
      },
      "source": [
        "Analyze the parameters and the performance"
      ]
    },
    {
      "cell_type": "code",
      "execution_count": null,
      "metadata": {
        "id": "JY4pJrVDAm3e"
      },
      "outputs": [],
      "source": [
        "print('The intercept is: %.3f'%Lasso_lr.intercept_)\n",
        "print('The coefficients are : '+str(Lasso_lr.coef_))"
      ]
    },
    {
      "cell_type": "markdown",
      "metadata": {
        "id": "reRlcky5Am3e"
      },
      "source": [
        "Check the performance and analyse it"
      ]
    },
    {
      "cell_type": "code",
      "execution_count": null,
      "metadata": {
        "id": "E6iA3uSuAm3e"
      },
      "outputs": [],
      "source": [
        "MAE=mean_absolute_error(Lasso_lr.predict(X_test.values),y_test)\n",
        "MSE=mean_squared_error(Lasso_lr.predict(X_test.values),y_test)\n",
        "print('The MAE in the dataset is {MAE} while the MSE is {MSE}'.format(MAE=MAE,MSE=MSE))"
      ]
    },
    {
      "cell_type": "code",
      "execution_count": null,
      "metadata": {
        "id": "cuHCrtVTAm3e"
      },
      "outputs": [],
      "source": [
        "define_performance_regression(y_train,Lasso_lr.predict(X_train.values),model='Lasso with all variables',train='train')\n",
        "print('  ')\n",
        "define_performance_regression(y_test,Lasso_lr.predict(X_test.values),model='Lasso with all variables',train='test')\n"
      ]
    },
    {
      "cell_type": "markdown",
      "metadata": {
        "id": "nwqUVHMXAm3f"
      },
      "source": [
        "With a different value of the Alpha parameter we will reach a different set of values for the model's parameters. What do you think will happen if you use a higher alpha?"
      ]
    },
    {
      "cell_type": "code",
      "execution_count": null,
      "metadata": {
        "id": "pD24Vz_TAm3f"
      },
      "outputs": [],
      "source": []
    },
    {
      "cell_type": "code",
      "execution_count": null,
      "metadata": {
        "id": "YaZdHQHmAm3f"
      },
      "outputs": [],
      "source": []
    },
    {
      "cell_type": "markdown",
      "metadata": {
        "id": "_Z7rhqqGAm3f"
      },
      "source": [
        "##### Which is the 'optimal' value of $\\alpha$ ?\n",
        "\n",
        "As we have just seen if we change the value of the penalty parameter changes dramatically the performance of the model. How could we choose a good value of the referred parameter? Using cross-validation"
      ]
    },
    {
      "cell_type": "code",
      "execution_count": null,
      "metadata": {
        "id": "ijy8WNSZAm3f"
      },
      "outputs": [],
      "source": [
        "from sklearn.linear_model import LassoCV\n",
        "Lasso_cv = LassoCV(cv=5, random_state=0).fit(X_train.values, y_train.values)"
      ]
    },
    {
      "cell_type": "code",
      "execution_count": null,
      "metadata": {
        "id": "Bqs_wCcGAm3f"
      },
      "outputs": [],
      "source": [
        "print('The intercept is: %.3f'%Lasso_cv.intercept_)\n",
        "print('The coefficients are : '+str(Lasso_cv.coef_))\n",
        "print('The selected alpha is : '+str(Lasso_cv.alpha_))"
      ]
    },
    {
      "cell_type": "code",
      "execution_count": null,
      "metadata": {
        "id": "EueHlAs6Am3f"
      },
      "outputs": [],
      "source": [
        "define_performance_regression(y_train,Lasso_cv.predict(X_train.values),model='Lasso v3 with all variables',train='train')\n",
        "print('  ')\n",
        "define_performance_regression(y_test,Lasso_cv.predict(X_test.values),model='Lasso v3 with all variables',train='test')\n"
      ]
    },
    {
      "cell_type": "markdown",
      "metadata": {
        "id": "azN7YpejAm3f"
      },
      "source": [
        "##### Elastic net model\n",
        "The following model to test will consist in a elastic net model"
      ]
    },
    {
      "cell_type": "code",
      "execution_count": null,
      "metadata": {
        "id": "p4wLtzBHAm3f"
      },
      "outputs": [],
      "source": [
        "from sklearn.linear_model import ElasticNet\n",
        "elas_net=ElasticNet(alpha=1,l1_ratio=0.75)\n",
        "elas_net.fit(X_train.values, y_train.values)"
      ]
    },
    {
      "cell_type": "code",
      "execution_count": null,
      "metadata": {
        "id": "69lL_MFxAm3g"
      },
      "outputs": [],
      "source": [
        "print('The intercept is: %.3f'%elas_net.intercept_)\n",
        "print('The coefficients are : '+str(elas_net.coef_))"
      ]
    },
    {
      "cell_type": "markdown",
      "metadata": {
        "id": "NUjKFEPSAm3g"
      },
      "source": [
        "Check performance and analyze it"
      ]
    },
    {
      "cell_type": "code",
      "execution_count": null,
      "metadata": {
        "id": "rH63mTseAm3g"
      },
      "outputs": [],
      "source": [
        "define_performance_regression(...) #Complete the code\n",
        "print('  ')\n",
        "define_performance_regression(...)#Complete the code"
      ]
    },
    {
      "cell_type": "markdown",
      "metadata": {
        "id": "sbdYBDVuAm3g"
      },
      "source": [
        "Let's try to optimize the value of the elastic net parameters using cross validation. Use the following possible values of the l1_ratio= .1, .25, .5, .7, .9, .95, .99 and 1"
      ]
    },
    {
      "cell_type": "code",
      "execution_count": null,
      "metadata": {
        "id": "XSgglnxmAm3g"
      },
      "outputs": [],
      "source": [
        "from sklearn.linear_model import ElasticNetCV\n",
        "enet_CV = ElasticNetCV(cv=..., random_state=0,l1_ratio=...) #Complete the code\n",
        "enet_CV.fit(...) #Complete the code"
      ]
    },
    {
      "cell_type": "code",
      "execution_count": null,
      "metadata": {
        "id": "H9Nuen1BAm3g"
      },
      "outputs": [],
      "source": [
        "print('The intercept is: %.3f'%enet_CV.intercept_)\n",
        "print('The coefficients are : '+str(enet_CV.coef_))\n",
        "print('The chosen alpha is : '+str(enet_CV.alpha_))\n",
        "print('The chosen l1 is : '+str(enet_CV.l1_ratio_))"
      ]
    },
    {
      "cell_type": "markdown",
      "metadata": {
        "id": "rEIX0CzPAm3g"
      },
      "source": [
        "### What about using a PCA before training the model?\n",
        "Why don't we test if with a prior projection it works? Let's plot the cummulative explained variance"
      ]
    },
    {
      "cell_type": "code",
      "execution_count": null,
      "metadata": {
        "id": "kjFeMeW-Am3h"
      },
      "outputs": [],
      "source": [
        "from sklearn.preprocessing import StandardScaler\n",
        "from sklearn.decomposition import PCA\n",
        "scaler=StandardScaler()\n",
        "X_train_std=scaler.fit_transform(X_train)\n",
        "X_test_std=scaler.transform(X_test)\n",
        "pca = PCA()\n",
        "princ_comp_train=pca.fit_transform(X_train_std)\n",
        "princ_comp_test=pca.transform(X_test_std)\n",
        "\n",
        "exp_var_pca = pca.explained_variance_ratio_\n",
        "cum_sum_eigenvalues = np.cumsum(exp_var_pca)\n",
        "plt.bar(range(0,len(exp_var_pca)), exp_var_pca, alpha=0.5, align='center', label='Explained variance')\n",
        "plt.step(range(0,len(cum_sum_eigenvalues)), cum_sum_eigenvalues, where='mid',label='Cumulative explained variance')\n",
        "plt.ylabel('Explained variance ratio')\n",
        "plt.xlabel('Principal component index')\n",
        "plt.legend()\n",
        "plt.grid()\n",
        "plt.show()\n"
      ]
    },
    {
      "cell_type": "markdown",
      "metadata": {
        "id": "v4yNn1c6Am3h"
      },
      "source": [
        "Get the variables that include at least a 60% of the variance of the original model"
      ]
    },
    {
      "cell_type": "code",
      "execution_count": null,
      "metadata": {
        "id": "CHPnz2cGAm3h"
      },
      "outputs": [],
      "source": [
        "limit=... #Complete the code\n",
        "pca_train= PCA(n_components=...)#complete the code\n",
        "princ_comp_train = ...#Complete the code\n",
        "princ_comp_test =...#Complete the code\n",
        "principal_train = ... #Complete the code\n",
        "principal_test = ...#Complete the code"
      ]
    },
    {
      "cell_type": "code",
      "execution_count": null,
      "metadata": {
        "id": "_4s1q9TYAm3h"
      },
      "outputs": [],
      "source": [
        "pca_train_tot=pd.concat([principal_train,y_train.reset_index().drop(columns=['index'])],axis=1).reset_index()\n",
        "pca_train_tot=pca_train_tot.drop(columns=['index'])"
      ]
    },
    {
      "cell_type": "code",
      "execution_count": null,
      "metadata": {
        "id": "oEyhgUbaAm3h"
      },
      "outputs": [],
      "source": [
        "Lr_pca=...#Complete the code\n",
        "Lr_pca.fit(...)#Complete the code\n",
        "define_performance_regression(...)#Complete the code\n",
        "print('  ')\n",
        "define_performance_regression(...)#Complete the code"
      ]
    },
    {
      "cell_type": "markdown",
      "metadata": {
        "id": "qb9jF7xcAm3h"
      },
      "source": [
        "Analize the results"
      ]
    },
    {
      "cell_type": "code",
      "execution_count": null,
      "metadata": {
        "id": "gQ5VB3ADAm3i"
      },
      "outputs": [],
      "source": []
    }
  ],
  "metadata": {
    "kernelspec": {
      "display_name": "Python 3",
      "language": "python",
      "name": "python3"
    },
    "language_info": {
      "codemirror_mode": {
        "name": "ipython",
        "version": 3
      },
      "file_extension": ".py",
      "mimetype": "text/x-python",
      "name": "python",
      "nbconvert_exporter": "python",
      "pygments_lexer": "ipython3",
      "version": "3.8.5"
    },
    "colab": {
      "provenance": [],
      "include_colab_link": true
    }
  },
  "nbformat": 4,
  "nbformat_minor": 0
}